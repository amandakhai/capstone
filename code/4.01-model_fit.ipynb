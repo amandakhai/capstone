{
 "cells": [
  {
   "cell_type": "markdown",
   "id": "db6202e7",
   "metadata": {},
   "source": [
    "# Capstone Project: Modeling and Interpretation"
   ]
  },
  {
   "cell_type": "markdown",
   "id": "c48d3d50",
   "metadata": {},
   "source": [
    "### Imports"
   ]
  },
  {
   "cell_type": "code",
   "execution_count": 1,
   "id": "aa2a808e",
   "metadata": {},
   "outputs": [],
   "source": [
    "import pandas as pd\n",
    "import numpy as np\n",
    "from sklearn.model_selection import train_test_split, GridSearchCV, RandomizedSearchCV\n",
    "from sklearn.linear_model import LogisticRegression\n",
    "from sklearn.ensemble import RandomForestClassifier, ExtraTreesClassifier\n",
    "from sklearn.metrics import confusion_matrix, plot_confusion_matrix, roc_auc_score\n",
    "from imblearn.over_sampling import SMOTE"
   ]
  },
  {
   "cell_type": "markdown",
   "id": "bbe6d3a3",
   "metadata": {},
   "source": [
    "### Dataset"
   ]
  },
  {
   "cell_type": "markdown",
   "id": "d7903f9d",
   "metadata": {},
   "source": [
    "After the final dataset is read in, a target column was created and unnecessary columns for modeling were dropped to only keep the distance matrix as features. The decision to use an interpretable classification model was made based on the following simplified logic: by understanding what kind of venues are considered an important feature or have a degree of dependency with coffee shops, we can suggest clients to open their businesses near those venues. The best model will then be used to determine the categories of venues that should be looked at and potentially, together with the engineered features that were dropped, we can narrow down the location(s) even more."
   ]
  },
  {
   "cell_type": "code",
   "execution_count": 2,
   "id": "88d21d42",
   "metadata": {},
   "outputs": [],
   "source": [
    "capstone_df = pd.read_csv(\"../data/final_df_min.csv\")"
   ]
  },
  {
   "cell_type": "code",
   "execution_count": 3,
   "id": "69a8e04c",
   "metadata": {},
   "outputs": [],
   "source": [
    "capstone_df[\"target\"] = capstone_df[\"categories\"].map(lambda x: 1 if x == \"Coffee Shop\" else 0)"
   ]
  },
  {
   "cell_type": "code",
   "execution_count": 4,
   "id": "b34d78a6",
   "metadata": {},
   "outputs": [],
   "source": [
    "capstone_df.drop(columns = [\"area\",\"categories\",\"name\",\"user_rate_as_pct_pop\",\"freq\",\"venues_per_capita\",\"cs_per_capita\",\"rating\",\"user_ratings_total\",\"price_level\",\"Coffee Shop\"], inplace = True)"
   ]
  },
  {
   "cell_type": "code",
   "execution_count": 5,
   "id": "e59fdd2c",
   "metadata": {},
   "outputs": [
    {
     "data": {
      "text/html": [
       "<div>\n",
       "<style scoped>\n",
       "    .dataframe tbody tr th:only-of-type {\n",
       "        vertical-align: middle;\n",
       "    }\n",
       "\n",
       "    .dataframe tbody tr th {\n",
       "        vertical-align: top;\n",
       "    }\n",
       "\n",
       "    .dataframe thead th {\n",
       "        text-align: right;\n",
       "    }\n",
       "</style>\n",
       "<table border=\"1\" class=\"dataframe\">\n",
       "  <thead>\n",
       "    <tr style=\"text-align: right;\">\n",
       "      <th></th>\n",
       "      <th>ATM</th>\n",
       "      <th>Acai House</th>\n",
       "      <th>Accessories Store</th>\n",
       "      <th>Acupuncturist</th>\n",
       "      <th>Afghan Restaurant</th>\n",
       "      <th>African Restaurant</th>\n",
       "      <th>Airport</th>\n",
       "      <th>Airport Lounge</th>\n",
       "      <th>Airport Service</th>\n",
       "      <th>Alternative Healer</th>\n",
       "      <th>...</th>\n",
       "      <th>Windmill</th>\n",
       "      <th>Wine Bar</th>\n",
       "      <th>Wine Shop</th>\n",
       "      <th>Winery</th>\n",
       "      <th>Wings Joint</th>\n",
       "      <th>Women's Store</th>\n",
       "      <th>Yoga Studio</th>\n",
       "      <th>Zoo</th>\n",
       "      <th>Zoo Exhibit</th>\n",
       "      <th>target</th>\n",
       "    </tr>\n",
       "  </thead>\n",
       "  <tbody>\n",
       "    <tr>\n",
       "      <th>0</th>\n",
       "      <td>19511.372574</td>\n",
       "      <td>13979.911196</td>\n",
       "      <td>11198.426865</td>\n",
       "      <td>62759.515967</td>\n",
       "      <td>0.000000</td>\n",
       "      <td>13365.306366</td>\n",
       "      <td>15743.376839</td>\n",
       "      <td>20565.965024</td>\n",
       "      <td>4889.294047</td>\n",
       "      <td>17828.958588</td>\n",
       "      <td>...</td>\n",
       "      <td>23410.654951</td>\n",
       "      <td>4898.605383</td>\n",
       "      <td>417.555842</td>\n",
       "      <td>6208.456140</td>\n",
       "      <td>8257.048208</td>\n",
       "      <td>12565.688209</td>\n",
       "      <td>2466.149939</td>\n",
       "      <td>8707.117751</td>\n",
       "      <td>8721.235556</td>\n",
       "      <td>0</td>\n",
       "    </tr>\n",
       "    <tr>\n",
       "      <th>1</th>\n",
       "      <td>14136.570906</td>\n",
       "      <td>18560.157257</td>\n",
       "      <td>16007.462666</td>\n",
       "      <td>57497.347395</td>\n",
       "      <td>5382.747523</td>\n",
       "      <td>16368.791699</td>\n",
       "      <td>10389.712669</td>\n",
       "      <td>20029.347618</td>\n",
       "      <td>0.000000</td>\n",
       "      <td>22301.288157</td>\n",
       "      <td>...</td>\n",
       "      <td>27228.777586</td>\n",
       "      <td>1858.348631</td>\n",
       "      <td>5071.378933</td>\n",
       "      <td>11196.764306</td>\n",
       "      <td>13515.535041</td>\n",
       "      <td>17800.759025</td>\n",
       "      <td>4819.403358</td>\n",
       "      <td>5803.332714</td>\n",
       "      <td>5830.343855</td>\n",
       "      <td>0</td>\n",
       "    </tr>\n",
       "    <tr>\n",
       "      <th>2</th>\n",
       "      <td>19382.759806</td>\n",
       "      <td>13993.863443</td>\n",
       "      <td>11400.194018</td>\n",
       "      <td>62593.193753</td>\n",
       "      <td>211.060273</td>\n",
       "      <td>13278.261825</td>\n",
       "      <td>15621.447513</td>\n",
       "      <td>20378.449515</td>\n",
       "      <td>4751.309024</td>\n",
       "      <td>17837.861334</td>\n",
       "      <td>...</td>\n",
       "      <td>23379.105276</td>\n",
       "      <td>5051.895002</td>\n",
       "      <td>467.336745</td>\n",
       "      <td>6249.937742</td>\n",
       "      <td>8433.407727</td>\n",
       "      <td>12742.219449</td>\n",
       "      <td>2556.344207</td>\n",
       "      <td>8710.481353</td>\n",
       "      <td>8726.492864</td>\n",
       "      <td>0</td>\n",
       "    </tr>\n",
       "    <tr>\n",
       "      <th>3</th>\n",
       "      <td>19382.759806</td>\n",
       "      <td>13993.863443</td>\n",
       "      <td>11400.194018</td>\n",
       "      <td>62593.193753</td>\n",
       "      <td>211.060273</td>\n",
       "      <td>13278.261825</td>\n",
       "      <td>15621.447513</td>\n",
       "      <td>20378.449515</td>\n",
       "      <td>4751.309024</td>\n",
       "      <td>17837.861334</td>\n",
       "      <td>...</td>\n",
       "      <td>23379.105276</td>\n",
       "      <td>5051.895002</td>\n",
       "      <td>467.336745</td>\n",
       "      <td>6249.937742</td>\n",
       "      <td>8433.407727</td>\n",
       "      <td>12742.219449</td>\n",
       "      <td>2556.344207</td>\n",
       "      <td>8710.481353</td>\n",
       "      <td>8726.492864</td>\n",
       "      <td>0</td>\n",
       "    </tr>\n",
       "    <tr>\n",
       "      <th>4</th>\n",
       "      <td>19432.761716</td>\n",
       "      <td>14100.866265</td>\n",
       "      <td>11207.098384</td>\n",
       "      <td>62707.548759</td>\n",
       "      <td>126.411934</td>\n",
       "      <td>13489.351380</td>\n",
       "      <td>15661.094996</td>\n",
       "      <td>20648.784776</td>\n",
       "      <td>4818.601367</td>\n",
       "      <td>17950.692116</td>\n",
       "      <td>...</td>\n",
       "      <td>23536.633209</td>\n",
       "      <td>4964.247571</td>\n",
       "      <td>296.311477</td>\n",
       "      <td>6324.153683</td>\n",
       "      <td>8301.361417</td>\n",
       "      <td>12609.252160</td>\n",
       "      <td>2341.560429</td>\n",
       "      <td>8584.193959</td>\n",
       "      <td>8598.049520</td>\n",
       "      <td>0</td>\n",
       "    </tr>\n",
       "  </tbody>\n",
       "</table>\n",
       "<p>5 rows × 427 columns</p>\n",
       "</div>"
      ],
      "text/plain": [
       "            ATM    Acai House  Accessories Store  Acupuncturist  \\\n",
       "0  19511.372574  13979.911196       11198.426865   62759.515967   \n",
       "1  14136.570906  18560.157257       16007.462666   57497.347395   \n",
       "2  19382.759806  13993.863443       11400.194018   62593.193753   \n",
       "3  19382.759806  13993.863443       11400.194018   62593.193753   \n",
       "4  19432.761716  14100.866265       11207.098384   62707.548759   \n",
       "\n",
       "   Afghan Restaurant  African Restaurant       Airport  Airport Lounge  \\\n",
       "0           0.000000        13365.306366  15743.376839    20565.965024   \n",
       "1        5382.747523        16368.791699  10389.712669    20029.347618   \n",
       "2         211.060273        13278.261825  15621.447513    20378.449515   \n",
       "3         211.060273        13278.261825  15621.447513    20378.449515   \n",
       "4         126.411934        13489.351380  15661.094996    20648.784776   \n",
       "\n",
       "   Airport Service  Alternative Healer  ...      Windmill     Wine Bar  \\\n",
       "0      4889.294047        17828.958588  ...  23410.654951  4898.605383   \n",
       "1         0.000000        22301.288157  ...  27228.777586  1858.348631   \n",
       "2      4751.309024        17837.861334  ...  23379.105276  5051.895002   \n",
       "3      4751.309024        17837.861334  ...  23379.105276  5051.895002   \n",
       "4      4818.601367        17950.692116  ...  23536.633209  4964.247571   \n",
       "\n",
       "     Wine Shop        Winery   Wings Joint  Women's Store  Yoga Studio  \\\n",
       "0   417.555842   6208.456140   8257.048208   12565.688209  2466.149939   \n",
       "1  5071.378933  11196.764306  13515.535041   17800.759025  4819.403358   \n",
       "2   467.336745   6249.937742   8433.407727   12742.219449  2556.344207   \n",
       "3   467.336745   6249.937742   8433.407727   12742.219449  2556.344207   \n",
       "4   296.311477   6324.153683   8301.361417   12609.252160  2341.560429   \n",
       "\n",
       "           Zoo  Zoo Exhibit  target  \n",
       "0  8707.117751  8721.235556       0  \n",
       "1  5803.332714  5830.343855       0  \n",
       "2  8710.481353  8726.492864       0  \n",
       "3  8710.481353  8726.492864       0  \n",
       "4  8584.193959  8598.049520       0  \n",
       "\n",
       "[5 rows x 427 columns]"
      ]
     },
     "execution_count": 5,
     "metadata": {},
     "output_type": "execute_result"
    }
   ],
   "source": [
    "capstone_df.head()"
   ]
  },
  {
   "cell_type": "markdown",
   "id": "2254d8a1",
   "metadata": {},
   "source": [
    "### Model"
   ]
  },
  {
   "cell_type": "markdown",
   "id": "807740e6",
   "metadata": {},
   "source": [
    "*Note: Hyperparameter tuning using GridSearchCV and RandomizedSearchCV were done on the SF-only dataset which can be found in the [Appendix](./6.02-appendix_model_hyperparameter_tuning_SF_only.ipynb), from which the best parameters are used within the modeling process for the whole dataset*"
   ]
  },
  {
   "cell_type": "markdown",
   "id": "6df17a6d",
   "metadata": {},
   "source": [
    "##### Setting up X and y"
   ]
  },
  {
   "cell_type": "code",
   "execution_count": 6,
   "id": "97a2ba19",
   "metadata": {},
   "outputs": [],
   "source": [
    "X = capstone_df.drop(columns=\"target\")\n",
    "y = capstone_df[\"target\"]"
   ]
  },
  {
   "cell_type": "markdown",
   "id": "b00cf760",
   "metadata": {},
   "source": [
    "##### Train/Test Split"
   ]
  },
  {
   "cell_type": "code",
   "execution_count": 7,
   "id": "b737ad94",
   "metadata": {},
   "outputs": [],
   "source": [
    "X_train, X_test, y_train, y_test = train_test_split(X, y, stratify = y, random_state = 42)"
   ]
  },
  {
   "cell_type": "markdown",
   "id": "af756168",
   "metadata": {},
   "source": [
    "##### SMOTE"
   ]
  },
  {
   "cell_type": "markdown",
   "id": "32e12723",
   "metadata": {},
   "source": [
    "Due to the imbalanced nature of the data (due to the fact that only 5.6% of total venues collected are Coffee Shop), SMOTE is applied in order to balance out the classes of data for the model to train on."
   ]
  },
  {
   "cell_type": "code",
   "execution_count": 8,
   "id": "24b3ec90",
   "metadata": {},
   "outputs": [],
   "source": [
    "smo = SMOTE()\n",
    "X_train_smote, y_train_smote = smo.fit_resample(X_train, y_train)"
   ]
  },
  {
   "cell_type": "markdown",
   "id": "2925884e",
   "metadata": {},
   "source": [
    "#### Baseline Model"
   ]
  },
  {
   "cell_type": "code",
   "execution_count": 9,
   "id": "093f30b0",
   "metadata": {},
   "outputs": [
    {
     "data": {
      "text/plain": [
       "0    0.943746\n",
       "1    0.056254\n",
       "Name: target, dtype: float64"
      ]
     },
     "execution_count": 9,
     "metadata": {},
     "output_type": "execute_result"
    }
   ],
   "source": [
    "y.value_counts(normalize = True)"
   ]
  },
  {
   "cell_type": "markdown",
   "id": "63da3fd5",
   "metadata": {},
   "source": [
    "The baseline model's accuracy is 94.4%."
   ]
  },
  {
   "cell_type": "markdown",
   "id": "c0278559",
   "metadata": {},
   "source": [
    "#### Logistic Regression"
   ]
  },
  {
   "cell_type": "code",
   "execution_count": 9,
   "id": "15839c4f",
   "metadata": {},
   "outputs": [],
   "source": [
    "logreg = LogisticRegression(C = 1e-05,\n",
    "                            class_weight = None,\n",
    "                            max_iter = 500,\n",
    "                            penalty = 'none',\n",
    "                            solver = 'newton-cg')"
   ]
  },
  {
   "cell_type": "code",
   "execution_count": 10,
   "id": "36794831",
   "metadata": {
    "scrolled": true
   },
   "outputs": [
    {
     "name": "stderr",
     "output_type": "stream",
     "text": [
      "/Users/akhairunnisa/miniforge3/lib/python3.9/site-packages/sklearn/linear_model/_logistic.py:1322: UserWarning: Setting penalty='none' will ignore the C and l1_ratio parameters\n",
      "  warnings.warn(\n",
      "/Users/akhairunnisa/miniforge3/lib/python3.9/site-packages/sklearn/utils/optimize.py:202: ConvergenceWarning: newton-cg failed to converge. Increase the number of iterations.\n",
      "  warnings.warn(\"newton-cg failed to converge. Increase the \"\n"
     ]
    },
    {
     "data": {
      "text/plain": [
       "LogisticRegression(C=1e-05, max_iter=500, penalty='none', solver='newton-cg')"
      ]
     },
     "execution_count": 10,
     "metadata": {},
     "output_type": "execute_result"
    }
   ],
   "source": [
    "logreg.fit(X_train_smote,y_train_smote)"
   ]
  },
  {
   "cell_type": "code",
   "execution_count": 11,
   "id": "124fbf76",
   "metadata": {},
   "outputs": [
    {
     "data": {
      "image/png": "[encoded data removed]",
      "text/plain": [
       "<Figure size 432x288 with 2 Axes>"
      ]
     },
     "metadata": {
      "needs_background": "light"
     },
     "output_type": "display_data"
    }
   ],
   "source": [
    "preds_logreg = logreg.predict(X_test)\n",
    "\n",
    "tn, fp, fn, tp = confusion_matrix(y_test, preds_logreg).ravel()\n",
    "\n",
    "plot_confusion_matrix(logreg, X_test, y_test, cmap='Blues', values_format='d');"
   ]
  },
  {
   "cell_type": "code",
   "execution_count": 12,
   "id": "94b51ff0",
   "metadata": {},
   "outputs": [],
   "source": [
    "logreg_train_score = logreg.score(X_train_smote,y_train_smote)\n",
    "logreg_test_score = logreg.score(X_test,y_test)\n",
    "logreg_test_sensitivity = tp / (tp + fn)\n",
    "logreg_test_specificty = tn / (tn + fp)\n",
    "logreg_roc_auc = roc_auc_score(y_test,logreg.predict_proba(X_test)[:,1])"
   ]
  },
  {
   "cell_type": "code",
   "execution_count": 13,
   "id": "b183ce68",
   "metadata": {},
   "outputs": [
    {
     "name": "stdout",
     "output_type": "stream",
     "text": [
      "Logistic Regression Train Accuracy: 0.8932036813392745\n",
      "Logistic Regression Test Accuracy: 0.8240391417118604\n",
      "Logistic Regression Test Sensitivity: 0.940251572327044\n",
      "Logistic Regression Test Specificity: 0.8171143035602748\n",
      "Logistic Regression Test ROC-AUC Score: 0.9247977875463056\n"
     ]
    }
   ],
   "source": [
    "print(f'Logistic Regression Train Accuracy: {logreg_train_score}')\n",
    "print(f'Logistic Regression Test Accuracy: {logreg_test_score}')\n",
    "print(f'Logistic Regression Test Sensitivity: {logreg_test_sensitivity}')\n",
    "print(f'Logistic Regression Test Specificity: {logreg_test_specificty}')\n",
    "print(f'Logistic Regression Test ROC-AUC Score: {logreg_roc_auc}')"
   ]
  },
  {
   "cell_type": "markdown",
   "id": "54b1b9f3",
   "metadata": {},
   "source": [
    "Overall performance of the Logistic Regression Model is worse than the baseline model, with a slight overfit towards the training data by 7%. We can also observe that the model is more likely to predict True Positives (sensitivity of 94%) than True Negatives (specificity of 82%), with 57 False Negatives and 2,928 False Positives. Looking at the ROC-AUC score we know that the model is able to distinguish between classes by 92%."
   ]
  },
  {
   "cell_type": "markdown",
   "id": "1a5c4f93",
   "metadata": {},
   "source": [
    "#### Random Forest"
   ]
  },
  {
   "cell_type": "code",
   "execution_count": 15,
   "id": "6f48ce29",
   "metadata": {},
   "outputs": [],
   "source": [
    "rfc = RandomForestClassifier(n_estimators= 750,\n",
    "                             min_samples_split= 2,\n",
    "                             min_samples_leaf= 2,\n",
    "                             max_features= 'auto',\n",
    "                             max_depth= 10,\n",
    "                             class_weight= 'balanced')"
   ]
  },
  {
   "cell_type": "code",
   "execution_count": 16,
   "id": "00ca5f47",
   "metadata": {},
   "outputs": [
    {
     "data": {
      "text/plain": [
       "RandomForestClassifier(class_weight='balanced', max_depth=10,\n",
       "                       min_samples_leaf=2, n_estimators=750)"
      ]
     },
     "execution_count": 16,
     "metadata": {},
     "output_type": "execute_result"
    }
   ],
   "source": [
    "rfc.fit(X_train_smote,y_train_smote)"
   ]
  },
  {
   "cell_type": "code",
   "execution_count": 17,
   "id": "c2cf13aa",
   "metadata": {},
   "outputs": [
    {
     "data": {
      "image/png": "[encoded data removed]",
      "text/plain": [
       "<Figure size 432x288 with 2 Axes>"
      ]
     },
     "metadata": {
      "needs_background": "light"
     },
     "output_type": "display_data"
    }
   ],
   "source": [
    "preds_rfc = rfc.predict(X_test)\n",
    "\n",
    "tn, fp, fn, tp = confusion_matrix(y_test, preds_rfc).ravel()\n",
    "\n",
    "plot_confusion_matrix(rfc, X_test, y_test, cmap='Blues', values_format='d');"
   ]
  },
  {
   "cell_type": "code",
   "execution_count": 18,
   "id": "84345c28",
   "metadata": {},
   "outputs": [],
   "source": [
    "rfc_train_score = rfc.score(X_train_smote,y_train_smote)\n",
    "rfc_test_score = rfc.score(X_test,y_test)\n",
    "rfc_test_sensitivity = tp / (tp + fn)\n",
    "rfc_test_specificty = tn / (tn + fp)\n",
    "rfc_roc_auc = roc_auc_score(y_test,rfc.predict_proba(X_test)[:,1])"
   ]
  },
  {
   "cell_type": "code",
   "execution_count": 19,
   "id": "d730b0ba",
   "metadata": {},
   "outputs": [
    {
     "name": "stdout",
     "output_type": "stream",
     "text": [
      "Random Forest Train Accuracy: 0.9700162412026819\n",
      "Random Forest Test Accuracy: 0.9458854043857581\n",
      "Random Forest Test Sensitivity: 0.9926624737945493\n",
      "Random Forest Test Specificity: 0.9430980637101811\n",
      "Random Forest Test ROC-AUC Score: 0.9972657943083267\n"
     ]
    }
   ],
   "source": [
    "print(f'Random Forest Train Accuracy: {rfc_train_score}')\n",
    "print(f'Random Forest Test Accuracy: {rfc_test_score}')\n",
    "print(f'Random Forest Test Sensitivity: {rfc_test_sensitivity}')\n",
    "print(f'Random Forest Test Specificity: {rfc_test_specificty}')\n",
    "print(f'Random Forest Test ROC-AUC Score: {rfc_roc_auc}')"
   ]
  },
  {
   "cell_type": "markdown",
   "id": "6ddd4119",
   "metadata": {},
   "source": [
    "Overall performance of the Random Forest Model is good, slightly better when compared to the baseline model by ~0.2% and a slight overfit towards the training data by 2.4%. We can also observe that the model is more likely to predict True Positives (sensitivity of 99%) than True Negatives (specificity of 94%), with 7 False Negatives and 911 False Positives. Looking at the ROC-AUC score we know that the model is able to distinguish between classes almost perfectly, by 99.7%."
   ]
  },
  {
   "cell_type": "markdown",
   "id": "8814f985",
   "metadata": {},
   "source": [
    "#### Extra Trees"
   ]
  },
  {
   "cell_type": "code",
   "execution_count": 21,
   "id": "93e893bb",
   "metadata": {},
   "outputs": [],
   "source": [
    "et = ExtraTreesClassifier(n_estimators= 100,\n",
    "                          min_samples_split= 4,\n",
    "                          min_samples_leaf= 5,\n",
    "                          max_features= 'auto',\n",
    "                          max_depth = 10,\n",
    "                          class_weight= 'balanced')"
   ]
  },
  {
   "cell_type": "code",
   "execution_count": 22,
   "id": "a5e5b73e",
   "metadata": {},
   "outputs": [
    {
     "data": {
      "text/plain": [
       "ExtraTreesClassifier(class_weight='balanced', max_depth=10, min_samples_leaf=5,\n",
       "                     min_samples_split=4)"
      ]
     },
     "execution_count": 22,
     "metadata": {},
     "output_type": "execute_result"
    }
   ],
   "source": [
    "et.fit(X_train_smote,y_train_smote)"
   ]
  },
  {
   "cell_type": "code",
   "execution_count": 23,
   "id": "d27d9f39",
   "metadata": {},
   "outputs": [
    {
     "data": {
      "image/png": "[encoded data removed]",
      "text/plain": [
       "<Figure size 432x288 with 2 Axes>"
      ]
     },
     "metadata": {
      "needs_background": "light"
     },
     "output_type": "display_data"
    }
   ],
   "source": [
    "preds_et = et.predict(X_test)\n",
    "\n",
    "tn, fp, fn, tp = confusion_matrix(y_test, preds_et).ravel()\n",
    "\n",
    "plot_confusion_matrix(et, X_test, y_test, cmap='Blues', values_format='d');"
   ]
  },
  {
   "cell_type": "code",
   "execution_count": 24,
   "id": "d6b3de6b",
   "metadata": {},
   "outputs": [],
   "source": [
    "et_train_score = et.score(X_train_smote,y_train_smote)\n",
    "et_test_score = et.score(X_test,y_test)\n",
    "et_test_sensitivity = tp / (tp + fn)\n",
    "et_test_specificty = tn / (tn + fp)\n",
    "et_roc_auc = roc_auc_score(y_test,et.predict_proba(X_test)[:,1])"
   ]
  },
  {
   "cell_type": "code",
   "execution_count": 25,
   "id": "f96fda8f",
   "metadata": {},
   "outputs": [
    {
     "name": "stdout",
     "output_type": "stream",
     "text": [
      "Extra Trees Train Accuracy: 0.9358680714612918\n",
      "Extra Trees Test Accuracy: 0.8943055883046451\n",
      "Extra Trees Test Sensitivity: 0.9790356394129979\n",
      "Extra Trees Test Specificity: 0.8892567145534042\n",
      "Extra Trees Test ROC-AUC Score: 0.9809013169180164\n"
     ]
    }
   ],
   "source": [
    "print(f'Extra Trees Train Accuracy: {et_train_score}')\n",
    "print(f'Extra Trees Test Accuracy: {et_test_score}')\n",
    "print(f'Extra Trees Test Sensitivity: {et_test_sensitivity}')\n",
    "print(f'Extra Trees Test Specificity: {et_test_specificty}')\n",
    "print(f'Extra Trees Test ROC-AUC Score: {et_roc_auc}')"
   ]
  },
  {
   "cell_type": "markdown",
   "id": "62756cc5",
   "metadata": {},
   "source": [
    "Overall performance of the Extra Trees Model is better than the Logistic Regression model, however is worse than the Baseline Model by 5%. It is also slighty overfit towards the training data by ~4%. We can also observe that the model is more likely to predict True Positives (sensitivity of 98%) than True Negatives (specificity of 89%), with 50 False Negatives and 200 False Positives. Looking at the ROC-AUC score we know that the model is able to distinguish between classes pretty well by 98%."
   ]
  },
  {
   "cell_type": "markdown",
   "id": "c3e4b78f",
   "metadata": {},
   "source": [
    "### Evaluation"
   ]
  },
  {
   "cell_type": "code",
   "execution_count": 27,
   "id": "3fd271d9",
   "metadata": {},
   "outputs": [],
   "source": [
    "metrics_summary_dic = {\n",
    "    \"Metrics\":[\"Train Accuracy\",\"Test Accuracy\",\"Test Sensitivity\",\"Test Specificity\",\"Test ROC-AUC Score\"],\n",
    "    \"Logistic Regression\":[logreg_train_score,logreg_test_score,logreg_test_sensitivity,logreg_test_specificty,logreg_roc_auc],\n",
    "    \"Random Forest Classifier\":[rfc_train_score,rfc_test_score,rfc_test_sensitivity,rfc_test_specificty,rfc_roc_auc],\n",
    "    \"Extra Trees Classifier\":[et_train_score,et_test_score,et_test_sensitivity,et_test_specificty,et_roc_auc]\n",
    "}"
   ]
  },
  {
   "cell_type": "code",
   "execution_count": 28,
   "id": "4712e9d7",
   "metadata": {},
   "outputs": [],
   "source": [
    "metrics_summary = pd.DataFrame(metrics_summary_dic)\n",
    "metrics_summary.set_index(\"Metrics\", inplace=True)"
   ]
  },
  {
   "cell_type": "code",
   "execution_count": 29,
   "id": "7c822a12",
   "metadata": {},
   "outputs": [],
   "source": [
    "metrics_summary = round(metrics_summary[metrics_summary.columns],3)"
   ]
  },
  {
   "cell_type": "code",
   "execution_count": 30,
   "id": "cdbcd985",
   "metadata": {
    "scrolled": true
   },
   "outputs": [
    {
     "data": {
      "text/html": [
       "<div>\n",
       "<style scoped>\n",
       "    .dataframe tbody tr th:only-of-type {\n",
       "        vertical-align: middle;\n",
       "    }\n",
       "\n",
       "    .dataframe tbody tr th {\n",
       "        vertical-align: top;\n",
       "    }\n",
       "\n",
       "    .dataframe thead th {\n",
       "        text-align: right;\n",
       "    }\n",
       "</style>\n",
       "<table border=\"1\" class=\"dataframe\">\n",
       "  <thead>\n",
       "    <tr style=\"text-align: right;\">\n",
       "      <th></th>\n",
       "      <th>Logistic Regression</th>\n",
       "      <th>Random Forest Classifier</th>\n",
       "      <th>Extra Trees Classifier</th>\n",
       "    </tr>\n",
       "    <tr>\n",
       "      <th>Metrics</th>\n",
       "      <th></th>\n",
       "      <th></th>\n",
       "      <th></th>\n",
       "    </tr>\n",
       "  </thead>\n",
       "  <tbody>\n",
       "    <tr>\n",
       "      <th>Train Accuracy</th>\n",
       "      <td>0.893</td>\n",
       "      <td>0.970</td>\n",
       "      <td>0.936</td>\n",
       "    </tr>\n",
       "    <tr>\n",
       "      <th>Test Accuracy</th>\n",
       "      <td>0.824</td>\n",
       "      <td>0.946</td>\n",
       "      <td>0.894</td>\n",
       "    </tr>\n",
       "    <tr>\n",
       "      <th>Test Sensitivity</th>\n",
       "      <td>0.940</td>\n",
       "      <td>0.993</td>\n",
       "      <td>0.979</td>\n",
       "    </tr>\n",
       "    <tr>\n",
       "      <th>Test Specificity</th>\n",
       "      <td>0.817</td>\n",
       "      <td>0.943</td>\n",
       "      <td>0.889</td>\n",
       "    </tr>\n",
       "    <tr>\n",
       "      <th>Test ROC-AUC Score</th>\n",
       "      <td>0.925</td>\n",
       "      <td>0.997</td>\n",
       "      <td>0.981</td>\n",
       "    </tr>\n",
       "  </tbody>\n",
       "</table>\n",
       "</div>"
      ],
      "text/plain": [
       "                    Logistic Regression  Random Forest Classifier  \\\n",
       "Metrics                                                             \n",
       "Train Accuracy                    0.893                     0.970   \n",
       "Test Accuracy                     0.824                     0.946   \n",
       "Test Sensitivity                  0.940                     0.993   \n",
       "Test Specificity                  0.817                     0.943   \n",
       "Test ROC-AUC Score                0.925                     0.997   \n",
       "\n",
       "                    Extra Trees Classifier  \n",
       "Metrics                                     \n",
       "Train Accuracy                       0.936  \n",
       "Test Accuracy                        0.894  \n",
       "Test Sensitivity                     0.979  \n",
       "Test Specificity                     0.889  \n",
       "Test ROC-AUC Score                   0.981  "
      ]
     },
     "execution_count": 30,
     "metadata": {},
     "output_type": "execute_result"
    }
   ],
   "source": [
    "metrics_summary"
   ]
  },
  {
   "cell_type": "markdown",
   "id": "a3463353",
   "metadata": {},
   "source": [
    "Looking at the metrics summary above, we can conclude that Random Forest Classifier is the best model to use because it is the most accurate, relatively balanced and is able to split the data almost perfectly at 99.7%. Below are the top 20 feature importance that would be used to determine the best location(s) to open a coffee shop."
   ]
  },
  {
   "cell_type": "code",
   "execution_count": 20,
   "id": "efd6eaef",
   "metadata": {
    "scrolled": false
   },
   "outputs": [
    {
     "data": {
      "text/html": [
       "<div>\n",
       "<style scoped>\n",
       "    .dataframe tbody tr th:only-of-type {\n",
       "        vertical-align: middle;\n",
       "    }\n",
       "\n",
       "    .dataframe tbody tr th {\n",
       "        vertical-align: top;\n",
       "    }\n",
       "\n",
       "    .dataframe thead th {\n",
       "        text-align: right;\n",
       "    }\n",
       "</style>\n",
       "<table border=\"1\" class=\"dataframe\">\n",
       "  <thead>\n",
       "    <tr style=\"text-align: right;\">\n",
       "      <th></th>\n",
       "      <th>features</th>\n",
       "      <th>importance</th>\n",
       "    </tr>\n",
       "  </thead>\n",
       "  <tbody>\n",
       "    <tr>\n",
       "      <th>277</th>\n",
       "      <td>Park</td>\n",
       "      <td>0.032909</td>\n",
       "    </tr>\n",
       "    <tr>\n",
       "      <th>292</th>\n",
       "      <td>Pizza Place</td>\n",
       "      <td>0.017926</td>\n",
       "    </tr>\n",
       "    <tr>\n",
       "      <th>199</th>\n",
       "      <td>Ice Cream Shop</td>\n",
       "      <td>0.015630</td>\n",
       "    </tr>\n",
       "    <tr>\n",
       "      <th>238</th>\n",
       "      <td>Mexican Restaurant</td>\n",
       "      <td>0.014601</td>\n",
       "    </tr>\n",
       "    <tr>\n",
       "      <th>29</th>\n",
       "      <td>Bakery</td>\n",
       "      <td>0.012860</td>\n",
       "    </tr>\n",
       "    <tr>\n",
       "      <th>66</th>\n",
       "      <td>Café</td>\n",
       "      <td>0.010776</td>\n",
       "    </tr>\n",
       "    <tr>\n",
       "      <th>59</th>\n",
       "      <td>Burger Joint</td>\n",
       "      <td>0.009781</td>\n",
       "    </tr>\n",
       "    <tr>\n",
       "      <th>134</th>\n",
       "      <td>Farmers Market</td>\n",
       "      <td>0.009520</td>\n",
       "    </tr>\n",
       "    <tr>\n",
       "      <th>286</th>\n",
       "      <td>Pet Store</td>\n",
       "      <td>0.008387</td>\n",
       "    </tr>\n",
       "    <tr>\n",
       "      <th>48</th>\n",
       "      <td>Bookstore</td>\n",
       "      <td>0.008228</td>\n",
       "    </tr>\n",
       "    <tr>\n",
       "      <th>55</th>\n",
       "      <td>Brewery</td>\n",
       "      <td>0.007851</td>\n",
       "    </tr>\n",
       "    <tr>\n",
       "      <th>172</th>\n",
       "      <td>Grocery Store</td>\n",
       "      <td>0.007753</td>\n",
       "    </tr>\n",
       "    <tr>\n",
       "      <th>385</th>\n",
       "      <td>Thai Restaurant</td>\n",
       "      <td>0.007624</td>\n",
       "    </tr>\n",
       "    <tr>\n",
       "      <th>377</th>\n",
       "      <td>Taco Place</td>\n",
       "      <td>0.007560</td>\n",
       "    </tr>\n",
       "    <tr>\n",
       "      <th>206</th>\n",
       "      <td>Italian Restaurant</td>\n",
       "      <td>0.007140</td>\n",
       "    </tr>\n",
       "    <tr>\n",
       "      <th>234</th>\n",
       "      <td>Mediterranean Restaurant</td>\n",
       "      <td>0.007025</td>\n",
       "    </tr>\n",
       "    <tr>\n",
       "      <th>210</th>\n",
       "      <td>Jewelry Store</td>\n",
       "      <td>0.006840</td>\n",
       "    </tr>\n",
       "    <tr>\n",
       "      <th>419</th>\n",
       "      <td>Wine Shop</td>\n",
       "      <td>0.006762</td>\n",
       "    </tr>\n",
       "    <tr>\n",
       "      <th>175</th>\n",
       "      <td>Gym</td>\n",
       "      <td>0.006595</td>\n",
       "    </tr>\n",
       "    <tr>\n",
       "      <th>373</th>\n",
       "      <td>Sushi Restaurant</td>\n",
       "      <td>0.006088</td>\n",
       "    </tr>\n",
       "  </tbody>\n",
       "</table>\n",
       "</div>"
      ],
      "text/plain": [
       "                     features  importance\n",
       "277                      Park    0.032909\n",
       "292               Pizza Place    0.017926\n",
       "199            Ice Cream Shop    0.015630\n",
       "238        Mexican Restaurant    0.014601\n",
       "29                     Bakery    0.012860\n",
       "66                       Café    0.010776\n",
       "59               Burger Joint    0.009781\n",
       "134            Farmers Market    0.009520\n",
       "286                 Pet Store    0.008387\n",
       "48                  Bookstore    0.008228\n",
       "55                    Brewery    0.007851\n",
       "172             Grocery Store    0.007753\n",
       "385           Thai Restaurant    0.007624\n",
       "377                Taco Place    0.007560\n",
       "206        Italian Restaurant    0.007140\n",
       "234  Mediterranean Restaurant    0.007025\n",
       "210             Jewelry Store    0.006840\n",
       "419                 Wine Shop    0.006762\n",
       "175                       Gym    0.006595\n",
       "373          Sushi Restaurant    0.006088"
      ]
     },
     "execution_count": 20,
     "metadata": {},
     "output_type": "execute_result"
    }
   ],
   "source": [
    "pd.DataFrame(list(zip(X_train_smote.columns,rfc.feature_importances_)), columns = [\"features\",\"importance\"]).sort_values(\"importance\",ascending = False).head(20)"
   ]
  }
 ],
 "metadata": {
  "kernelspec": {
   "display_name": "Python 3",
   "language": "python",
   "name": "python3"
  },
  "language_info": {
   "codemirror_mode": {
    "name": "ipython",
    "version": 3
   },
   "file_extension": ".py",
   "mimetype": "text/x-python",
   "name": "python",
   "nbconvert_exporter": "python",
   "pygments_lexer": "ipython3",
   "version": "3.9.2"
  }
 },
 "nbformat": 4,
 "nbformat_minor": 5
}
